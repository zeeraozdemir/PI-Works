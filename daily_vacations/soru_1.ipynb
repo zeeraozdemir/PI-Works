{
 "cells": [
  {
   "cell_type": "code",
   "execution_count": 4,
   "metadata": {},
   "outputs": [],
   "source": [
    "import pandas as pd\n",
    "\n",
    "# Veri setini yükle\n",
    "df = pd.read_csv(\"C:/Users/ZEHRA/Desktop/piworks/daily_vacations/country_vaccination_stats(1).csv\")\n",
    "\n",
    "# Her bir ülkenin minimum günlük aşılama sayısını hesapla\n",
    "min_daily_vaccinations = df.groupby(\"country\")[\"daily_vaccinations\"].min()\n",
    "\n",
    "# Eksik verileri ilgili ülkelerin minimum günlük aşılama sayısıyla doldur\n",
    "df[\"daily_vaccinations\"].fillna(df[\"country\"].map(min_daily_vaccinations), inplace=True)\n",
    "\n",
    "# Henüz geçerli bir aşı numarası olmayan ülkeleri \"0\" ile doldur\n",
    "df[\"daily_vaccinations\"].fillna(0, inplace=True)"
   ]
  }
 ],
 "metadata": {
  "kernelspec": {
   "display_name": "Python 3",
   "language": "python",
   "name": "python3"
  },
  "language_info": {
   "codemirror_mode": {
    "name": "ipython",
    "version": 3
   },
   "file_extension": ".py",
   "mimetype": "text/x-python",
   "name": "python",
   "nbconvert_exporter": "python",
   "pygments_lexer": "ipython3",
   "version": "3.10.5"
  },
  "orig_nbformat": 4
 },
 "nbformat": 4,
 "nbformat_minor": 2
}
