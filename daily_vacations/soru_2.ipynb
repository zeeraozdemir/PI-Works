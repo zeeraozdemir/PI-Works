{
 "cells": [
  {
   "cell_type": "code",
   "execution_count": 4,
   "metadata": {},
   "outputs": [],
   "source": [
    "import pandas as pd\n",
    "\n",
    "# Veri setini yükle\n",
    "df = pd.read_csv(\"C:/Users/ZEHRA/Desktop/piworks/PI-Works/daily_vacations/country_vaccination_stats(1).csv\")"
   ]
  },
  {
   "cell_type": "code",
   "execution_count": 5,
   "metadata": {},
   "outputs": [
    {
     "name": "stdout",
     "output_type": "stream",
     "text": [
      "country\n",
      "United States    378253.0\n",
      "China            276786.0\n",
      "India            173922.0\n",
      "Name: daily_vaccinations, dtype: float64\n"
     ]
    }
   ],
   "source": [
    "# Eksik değerleri 0 (sıfır) ile doldur\n",
    "df[\"daily_vaccinations\"].fillna(0, inplace=True)\n",
    "\n",
    "# Her bir ülkenin medyan günlük aşılama sayısını hesapla\n",
    "country_medians = df.groupby(\"country\")[\"daily_vaccinations\"].median()\n",
    "\n",
    "# En yüksek medyan günlük aşılama sayılarına sahip ilk 3 ülkeyi listele\n",
    "\n",
    "top_countries = country_medians.nlargest(3)\n",
    "print(top_countries)"
   ]
  }
 ],
 "metadata": {
  "kernelspec": {
   "display_name": "Python 3",
   "language": "python",
   "name": "python3"
  },
  "language_info": {
   "codemirror_mode": {
    "name": "ipython",
    "version": 3
   },
   "file_extension": ".py",
   "mimetype": "text/x-python",
   "name": "python",
   "nbconvert_exporter": "python",
   "pygments_lexer": "ipython3",
   "version": "3.10.5"
  },
  "orig_nbformat": 4
 },
 "nbformat": 4,
 "nbformat_minor": 2
}
